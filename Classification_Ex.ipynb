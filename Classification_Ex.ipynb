{
 "cells": [
  {
   "cell_type": "markdown",
   "metadata": {},
   "source": [
    "Import Libraries."
   ]
  },
  {
   "cell_type": "code",
   "execution_count": 1,
   "metadata": {},
   "outputs": [],
   "source": [
    "import numpy as np\n",
    "import pandas as pd\n",
    "import itertools\n",
    "import matplotlib.pyplot as plt\n",
    "from scipy.stats import ttest_ind\n",
    "from sklearn.preprocessing import StandardScaler\n",
    "from sklearn.model_selection import train_test_split, GridSearchCV\n",
    "from sklearn.linear_model import LogisticRegression\n",
    "from sklearn.ensemble import RandomForestClassifier\n",
    "from sklearn.gaussian_process import GaussianProcessClassifier\n",
    "from sklearn.gaussian_process.kernels import RBF, WhiteKernel\n",
    "from sklearn.svm import SVC\n",
    "from sklearn.metrics import r2_score, roc_auc_score, roc_curve, precision_recall_fscore_support, classification_report\n",
    "from sklearn.decomposition import PCA"
   ]
  },
  {
   "cell_type": "markdown",
   "metadata": {},
   "source": [
    "UCI Machine Learning Repository: https://archive.ics.uci.edu/ml/datasets/Heart+failure+clinical+records. "
   ]
  },
  {
   "cell_type": "code",
   "execution_count": 2,
   "metadata": {},
   "outputs": [],
   "source": [
    "data = pd.read_csv('heart_failure_database.csv')"
   ]
  },
  {
   "cell_type": "markdown",
   "metadata": {},
   "source": [
    "Check the distribution of class labels."
   ]
  },
  {
   "cell_type": "code",
   "execution_count": 3,
   "metadata": {
    "scrolled": true
   },
   "outputs": [
    {
     "data": {
      "text/plain": [
       "0    67.892977\n",
       "1    32.107023\n",
       "Name: DEATH_EVENT, dtype: float64"
      ]
     },
     "execution_count": 3,
     "metadata": {},
     "output_type": "execute_result"
    }
   ],
   "source": [
    "data['DEATH_EVENT'].value_counts(normalize=True) * 100"
   ]
  },
  {
   "cell_type": "markdown",
   "metadata": {},
   "source": [
    "Separate features and target variable.\n",
    "\n",
    "The last feature column in the data set is excluded because it is the follow-up period. This feature will of course show a strong relationship to the target label, such as death event, as death is more likely to occur during a longer follow-up. However, it does not make sense to try and learn from this label."
   ]
  },
  {
   "cell_type": "code",
   "execution_count": 4,
   "metadata": {},
   "outputs": [],
   "source": [
    "features = data.iloc[:, :-2].to_numpy() \n",
    "feature_names = data.columns[:-2].to_numpy()\n",
    "n_samples, n_features = features.shape\n",
    "target = data.iloc[:, -1].to_numpy(dtype=bool) \n",
    "target_name = data.columns[-1]"
   ]
  },
  {
   "cell_type": "markdown",
   "metadata": {},
   "source": [
    "Define the training and testing sets. Because of the class imbalance, make sure to have an equal proportion of each class in both sets."
   ]
  },
  {
   "cell_type": "code",
   "execution_count": 5,
   "metadata": {},
   "outputs": [],
   "source": [
    "# Use remaining 10% for testing set\n",
    "test_frac = 0.1 \n",
    "\n",
    "np.random.seed(0)\n",
    "X_train, X_test, y_train, y_test = train_test_split(features, target, test_size=test_frac, stratify=target)"
   ]
  },
  {
   "cell_type": "code",
   "execution_count": 6,
   "metadata": {},
   "outputs": [
    {
     "name": "stdout",
     "output_type": "stream",
     "text": [
      "32.0% Positive labels in training set.\n",
      "33.3% Positive labels in testing set.\n"
     ]
    }
   ],
   "source": [
    "print('{:.1f}% Positive labels in training set.'.format(y_train.mean() * 100))\n",
    "print('{:.1f}% Positive labels in testing set.'.format(y_test.mean() * 100))"
   ]
  },
  {
   "cell_type": "markdown",
   "metadata": {},
   "source": [
    "Normalizing features to have zero mean and unit variance.\n",
    "\n",
    "Some features are binary, and it will do no good to normalize them. Therfore, only apply the normalization to continuous features."
   ]
  },
  {
   "cell_type": "code",
   "execution_count": 7,
   "metadata": {},
   "outputs": [
    {
     "name": "stdout",
     "output_type": "stream",
     "text": [
      "['anaemia' 'diabetes' 'high_blood_pressure' 'sex' 'smoking']\n"
     ]
    }
   ],
   "source": [
    "# Detect binary columns\n",
    "binary_cols = np.zeros((n_features,), dtype=bool)\n",
    "for i in range(n_features):\n",
    "    binary_cols[i] = len(np.unique(features[:, i])) == 2\n",
    "    \n",
    "# Show which features were detected as binary\n",
    "print(feature_names[binary_cols]) "
   ]
  },
  {
   "cell_type": "code",
   "execution_count": 8,
   "metadata": {},
   "outputs": [],
   "source": [
    "scaler = StandardScaler().fit(X_train[:, ~binary_cols])\n",
    "X_train[:, ~binary_cols] = scaler.transform(X_train[:, ~binary_cols])\n",
    "X_test[:, ~binary_cols] = scaler.transform(X_test[:, ~binary_cols])"
   ]
  },
  {
   "cell_type": "markdown",
   "metadata": {},
   "source": [
    "# Univariate Classification"
   ]
  },
  {
   "cell_type": "markdown",
   "metadata": {},
   "source": [
    "Predict the class labels using a single feature. Reference the $t$ statistic from Welch's $t$-test to pick the feature with the best separation."
   ]
  },
  {
   "cell_type": "code",
   "execution_count": 9,
   "metadata": {},
   "outputs": [
    {
     "name": "stdout",
     "output_type": "stream",
     "text": [
      "Feature Ranking:\n",
      "t=4.4\tejection_fraction\n",
      "t=3.8\tserum_creatinine\n",
      "t=3.5\tage\n",
      "t=3.2\tserum_sodium\n",
      "t=1.4\thigh_blood_pressure\n",
      "t=1.1\tanaemia\n",
      "t=0.9\tcreatinine_phosphokinase\n",
      "t=0.9\tplatelets\n",
      "t=0.4\tsmoking\n",
      "t=0.3\tsex\n",
      "t=0.0\tdiabetes\n"
     ]
    }
   ],
   "source": [
    "t = np.zeros((n_features,))\n",
    "for i in range(n_features):\n",
    "    t[i] = ttest_ind(X_train[y_train, i], X_train[~y_train, i], equal_var=False)[0]\n",
    "t = np.abs(t) \n",
    "\n",
    "print('Feature Ranking:')\n",
    "ranked_feat_idx = np.flip(np.argsort(t), 0)\n",
    "for i in ranked_feat_idx:\n",
    "    print('t={:.1f}\\t{}'.format(t[i], feature_names[i]))"
   ]
  },
  {
   "cell_type": "markdown",
   "metadata": {},
   "source": [
    "Let's look at the distribution of the best feature for each class."
   ]
  },
  {
   "cell_type": "code",
   "execution_count": 10,
   "metadata": {},
   "outputs": [],
   "source": [
    "best_feat_idx = ranked_feat_idx[0]\n",
    "best_feat = -1 * X_train[:, best_feat_idx]\n",
    "best_feat_name = feature_names[best_feat_idx]"
   ]
  },
  {
   "cell_type": "code",
   "execution_count": 11,
   "metadata": {},
   "outputs": [
    {
     "data": {
      "image/png": "[encoded data removed]",
      "text/plain": [
       "<Figure size 432x288 with 1 Axes>"
      ]
     },
     "metadata": {
      "needs_background": "light"
     },
     "output_type": "display_data"
    }
   ],
   "source": [
    "fig = plt.figure(figsize=(6, 4))\n",
    "ax = fig.add_subplot(1, 1, 1)\n",
    "bins = np.linspace(best_feat.min(), best_feat.max(), 11)\n",
    "ax.hist(best_feat[y_train], bins=bins, density=True, alpha=.5, label='Death')\n",
    "ax.hist(best_feat[~y_train], bins=bins, density=True, alpha=.5, label='No Death')\n",
    "ax.set_xlabel(best_feat_name)\n",
    "ax.set_ylabel('Probability Density')\n",
    "ax.legend()\n",
    "fig.tight_layout()"
   ]
  },
  {
   "cell_type": "markdown",
   "metadata": {},
   "source": [
    "Try to separate the two classes using a single threshold. To identify a good treshold, examine the receiver-operator curve (ROC) of the training data, which compares the false and true positive rates of all possible decision boundaries."
   ]
  },
  {
   "cell_type": "code",
   "execution_count": 12,
   "metadata": {},
   "outputs": [
    {
     "data": {
      "image/png": "[encoded data removed]",
      "text/plain": [
       "<Figure size 288x288 with 1 Axes>"
      ]
     },
     "metadata": {
      "needs_background": "light"
     },
     "output_type": "display_data"
    }
   ],
   "source": [
    "fig = plt.figure(figsize=(4, 4))\n",
    "ax = fig.add_subplot(1, 1, 1)\n",
    "fpr, tpr, thresh = roc_curve(y_train, best_feat)\n",
    "ax.plot(fpr, tpr)\n",
    "ax.set_xlabel('False Positive Rate')\n",
    "ax.set_ylabel('True Positive Rate')\n",
    "ax.axis('square')\n",
    "fig.tight_layout()"
   ]
  },
  {
   "cell_type": "markdown",
   "metadata": {},
   "source": [
    "The ROC shows that there is no particularly good boundary using this single feature. Pick the threshold corresponding to the point below if want to emphasize true positives at the expense of many false positives."
   ]
  },
  {
   "cell_type": "code",
   "execution_count": 13,
   "metadata": {
    "scrolled": true
   },
   "outputs": [
    {
     "data": {
      "image/png": "[encoded data removed]",
      "text/plain": [
       "<Figure size 720x288 with 2 Axes>"
      ]
     },
     "metadata": {
      "needs_background": "light"
     },
     "output_type": "display_data"
    }
   ],
   "source": [
    "# Corresponds to about a 0.6 true positive rate\n",
    "selected_idx = 6  \n",
    "selected_fpr, selected_tpr, selected_thresh = fpr[selected_idx], tpr[selected_idx], thresh[selected_idx]\n",
    "\n",
    "fig, axs = plt.subplots(1, 2, figsize=(10,4), gridspec_kw={'width_ratios': [4, 6]})\n",
    "ax = axs[0]\n",
    "ax.plot(fpr, tpr)\n",
    "ax.scatter(selected_fpr, selected_tpr, s=64)\n",
    "ax.set_xlabel('False Positive Rate')\n",
    "ax.set_ylabel('True Positive Rate')\n",
    "ax.axis('square')\n",
    "ax = axs[1]\n",
    "ax.hist(best_feat[y_train], bins=bins, density=True, alpha=.5, label='Death')\n",
    "ax.hist(best_feat[~y_train], bins=bins, density=True, alpha=.5, label='No Death')\n",
    "ax.axvline(selected_thresh, color='k', linewidth=1)\n",
    "ax.set_xlabel(best_feat_name)\n",
    "ax.set_ylabel('Probability Density')\n",
    "ax.legend()\n",
    "fig.tight_layout()"
   ]
  },
  {
   "cell_type": "markdown",
   "metadata": {},
   "source": [
    "To assess the classification performance of this operating point, classify the testing data using the selected threshold."
   ]
  },
  {
   "cell_type": "code",
   "execution_count": 14,
   "metadata": {},
   "outputs": [],
   "source": [
    "# Classify test scores using identified threshold\n",
    "y_hat = (-1*X_test[:, best_feat_idx]) > selected_thresh  "
   ]
  },
  {
   "cell_type": "markdown",
   "metadata": {},
   "source": [
    "The precision, recall, and F1 score, such as a harmonic mean of precision and recall, are metrics that can summarize performance. The macro average gives equal weight to the performance metric despite the class imbalance. These values look okay so far because the operating point selected emphasizes the identifying true positives."
   ]
  },
  {
   "cell_type": "code",
   "execution_count": 15,
   "metadata": {},
   "outputs": [
    {
     "name": "stdout",
     "output_type": "stream",
     "text": [
      "              precision    recall  f1-score   support\n",
      "\n",
      "    No Death       0.75      0.90      0.82        20\n",
      "       Death       0.67      0.40      0.50        10\n",
      "\n",
      "    accuracy                           0.73        30\n",
      "   macro avg       0.71      0.65      0.66        30\n",
      "weighted avg       0.72      0.73      0.71        30\n",
      "\n"
     ]
    }
   ],
   "source": [
    "print(classification_report(y_test, y_hat, target_names=['No Death', 'Death']))"
   ]
  },
  {
   "cell_type": "markdown",
   "metadata": {},
   "source": [
    "Another useful metric is the area under the ROC (AUC), which gives a sense of classifier performance across all possible decision thresholds. Can plot this alongside the ROC for the testing data."
   ]
  },
  {
   "cell_type": "code",
   "execution_count": 16,
   "metadata": {},
   "outputs": [
    {
     "data": {
      "image/png": "[encoded data removed]",
      "text/plain": [
       "<Figure size 288x288 with 1 Axes>"
      ]
     },
     "metadata": {
      "needs_background": "light"
     },
     "output_type": "display_data"
    }
   ],
   "source": [
    "scores = (-1*X_test[:, best_feat_idx]) - selected_thresh\n",
    "auc = roc_auc_score(y_test, scores, average='macro')\n",
    "fpr, tpr, _ = roc_curve(y_test, scores)\n",
    "\n",
    "fig = plt.figure(figsize=(4, 4))\n",
    "ax = fig.add_subplot(1, 1, 1)\n",
    "ax.plot(fpr, tpr)\n",
    "ax.set_xlabel('False Positive Rate')\n",
    "ax.set_ylabel('True Positive Rate')\n",
    "ax.text(.75, 0, 'AUC={:.2f}'.format(auc))\n",
    "ax.axis('square')\n",
    "fig.tight_layout()"
   ]
  },
  {
   "cell_type": "markdown",
   "metadata": {},
   "source": [
    "# Multivariate Classification"
   ]
  },
  {
   "cell_type": "markdown",
   "metadata": {},
   "source": [
    "There might be a better way to perform classification by using multiple features. The plot showed that the best feature did not well-seperate the data on its own. Try to look at class distribution using the two best features, and to visualize the separation between the classes by using Principal Component Analysis (PCA) to reduce the dimensionality of the features."
   ]
  },
  {
   "cell_type": "code",
   "execution_count": 17,
   "metadata": {},
   "outputs": [
    {
     "data": {
      "image/png": "[encoded data removed]",
      "text/plain": [
       "<Figure size 576x288 with 2 Axes>"
      ]
     },
     "metadata": {
      "needs_background": "light"
     },
     "output_type": "display_data"
    }
   ],
   "source": [
    "fig = plt.figure(figsize=(8, 4))\n",
    "\n",
    "ax = fig.add_subplot(1, 2, 1)\n",
    "idx1, idx2 = ranked_feat_idx[:2]\n",
    "ax.scatter(X_train[y_train, idx1], X_train[y_train, idx2], label='Death', s=16, alpha=0.5)\n",
    "ax.scatter(X_train[~y_train, idx1], X_train[~y_train, idx2], label='No Death', s=16, alpha=0.5)\n",
    "ax.legend()\n",
    "ax.set_xlabel(feature_names[idx1])\n",
    "ax.set_ylabel(feature_names[idx2])\n",
    "\n",
    "ax = fig.add_subplot(1, 2, 2)\n",
    "pca = PCA(n_components=2).fit(X_train)\n",
    "X_train_pca = pca.transform(X_train)\n",
    "ax.scatter(*X_train_pca[y_train].T, label='Death', s=16, alpha=0.5)\n",
    "ax.scatter(*X_train_pca[~y_train].T, label='No Death', s=16, alpha=0.5)\n",
    "ax.legend()\n",
    "ax.set_xlabel('1st PC ({:.1f}% Variance)'.format(pca.explained_variance_ratio_[0] * 100))\n",
    "ax.set_ylabel('2nd PC ({:.1f}% Variance)'.format(pca.explained_variance_ratio_[1] * 100))\n",
    "\n",
    "fig.tight_layout()"
   ]
  },
  {
   "cell_type": "markdown",
   "metadata": {},
   "source": [
    "Though some separation is visible, there is no clear boundary. However, the PCA transformation captures less than 40% of the variance in the data, so that is the reason why not seeing a comprehensive picture.\n",
    "\n",
    "Regardless, try to use a logistic regression model to take advantage of the higher-dimensional space and separate the classes. Logistic regression has a regularization hyperparameter, $C$, that needs to be chosen. Select this hyperparameter using 5-fold cross-validation in the training data."
   ]
  },
  {
   "cell_type": "code",
   "execution_count": 18,
   "metadata": {},
   "outputs": [
    {
     "name": "stdout",
     "output_type": "stream",
     "text": [
      "The selected value of C was: 1.45e+00\n"
     ]
    }
   ],
   "source": [
    "# Dictionary of model hyperparameters we want to select and their possible values\n",
    "params = {  \n",
    "    'C': np.logspace(-4, 4, 401)\n",
    "}\n",
    "\n",
    "cv_result = GridSearchCV(\n",
    "    # The model to validate\n",
    "    LogisticRegression(),  \n",
    "    # The parameters to validate and their possible values\n",
    "    params,  \n",
    "    # The score to optimize\n",
    "    scoring='f1_macro',  \n",
    "    # Use all available processors\n",
    "    n_jobs=-1,  \n",
    "     # Stratified 5-fold CV\n",
    "    cv=5 \n",
    ").fit(X_train, y_train)\n",
    "print('The selected value of C was: {C:.2e}'.format(**cv_result.best_params_))\n",
    "\n",
    "# Train a model using the selected hyperparameter\n",
    "model = LogisticRegression(**cv_result.best_params_).fit(X_train, y_train)"
   ]
  },
  {
   "cell_type": "code",
   "execution_count": 19,
   "metadata": {},
   "outputs": [],
   "source": [
    "# A function to show the classification performance\n",
    "def classify_perf(y_true, y_hat, scores):\n",
    "    print(classification_report(y_true, y_hat, target_names=['No Death', 'Death']))\n",
    "    \n",
    "    auc = roc_auc_score(y_true, scores, average='macro')\n",
    "    fpr, tpr, _ = roc_curve(y_true, scores)\n",
    "    fig = plt.figure(figsize=(4, 4))\n",
    "    ax = fig.add_subplot(1, 1, 1)\n",
    "    ax.plot(fpr, tpr)\n",
    "    ax.set_xlabel('False Positive Rate')\n",
    "    ax.set_ylabel('True Positive Rate')\n",
    "    ax.text(.75, 0, 'AUC={:.2f}'.format(auc))\n",
    "    ax.axis('square')\n",
    "    fig.tight_layout()"
   ]
  },
  {
   "cell_type": "code",
   "execution_count": 20,
   "metadata": {},
   "outputs": [
    {
     "name": "stdout",
     "output_type": "stream",
     "text": [
      "              precision    recall  f1-score   support\n",
      "\n",
      "    No Death       0.79      0.95      0.86        20\n",
      "       Death       0.83      0.50      0.62        10\n",
      "\n",
      "    accuracy                           0.80        30\n",
      "   macro avg       0.81      0.72      0.74        30\n",
      "weighted avg       0.81      0.80      0.78        30\n",
      "\n"
     ]
    },
    {
     "data": {
      "image/png": "[encoded data removed]",
      "text/plain": [
       "<Figure size 288x288 with 1 Axes>"
      ]
     },
     "metadata": {
      "needs_background": "light"
     },
     "output_type": "display_data"
    }
   ],
   "source": [
    "# Evaluate model performance\n",
    "y_hat = model.predict(X_test)\n",
    "scores = model.predict_proba(X_test)[:, 1]\n",
    "classify_perf(y_test, y_hat, scores)"
   ]
  },
  {
   "cell_type": "markdown",
   "metadata": {},
   "source": [
    "If look at the classification performance of the model trained all all features, it looks much better. \n",
    "The AUC, in particular, has vastly improved."
   ]
  },
  {
   "cell_type": "markdown",
   "metadata": {},
   "source": [
    "## Random Forest Classification"
   ]
  },
  {
   "cell_type": "code",
   "execution_count": 21,
   "metadata": {},
   "outputs": [
    {
     "name": "stdout",
     "output_type": "stream",
     "text": [
      "              precision    recall  f1-score   support\n",
      "\n",
      "    No Death       0.86      0.90      0.88        20\n",
      "       Death       0.78      0.70      0.74        10\n",
      "\n",
      "    accuracy                           0.83        30\n",
      "   macro avg       0.82      0.80      0.81        30\n",
      "weighted avg       0.83      0.83      0.83        30\n",
      "\n"
     ]
    },
    {
     "data": {
      "image/png": "[encoded data removed]",
      "text/plain": [
       "<Figure size 288x288 with 1 Axes>"
      ]
     },
     "metadata": {
      "needs_background": "light"
     },
     "output_type": "display_data"
    }
   ],
   "source": [
    "model = RandomForestClassifier(n_estimators=100, class_weight='balanced', n_jobs=-1).fit(X_train, y_train)\n",
    "y_hat = model.predict(X_test)\n",
    "scores = model.predict_proba(X_test)[:, 1]\n",
    "classify_perf(y_test, y_hat, scores)"
   ]
  },
  {
   "cell_type": "markdown",
   "metadata": {},
   "source": [
    "## Gaussian Process Classification"
   ]
  },
  {
   "cell_type": "code",
   "execution_count": 22,
   "metadata": {},
   "outputs": [
    {
     "name": "stdout",
     "output_type": "stream",
     "text": [
      "              precision    recall  f1-score   support\n",
      "\n",
      "    No Death       0.78      0.90      0.84        20\n",
      "       Death       0.71      0.50      0.59        10\n",
      "\n",
      "    accuracy                           0.77        30\n",
      "   macro avg       0.75      0.70      0.71        30\n",
      "weighted avg       0.76      0.77      0.75        30\n",
      "\n"
     ]
    },
    {
     "name": "stderr",
     "output_type": "stream",
     "text": [
      "/opt/anaconda3/lib/python3.8/site-packages/sklearn/gaussian_process/kernels.py:402: ConvergenceWarning: The optimal value found for dimension 0 of parameter k2__noise_level is close to the specified lower bound 1e-05. Decreasing the bound and calling fit again may find a better value.\n",
      "  warnings.warn(\"The optimal value found for \"\n"
     ]
    },
    {
     "data": {
      "image/png": "[encoded data removed]",
      "text/plain": [
       "<Figure size 288x288 with 1 Axes>"
      ]
     },
     "metadata": {
      "needs_background": "light"
     },
     "output_type": "display_data"
    }
   ],
   "source": [
    "kernel = 1 * RBF() + WhiteKernel()\n",
    "model = GaussianProcessClassifier(kernel=kernel).fit(X_train, y_train)\n",
    "y_hat = model.predict(X_test)\n",
    "scores = model.predict_proba(X_test)[:, 1]\n",
    "classify_perf(y_test, y_hat, scores)"
   ]
  },
  {
   "cell_type": "markdown",
   "metadata": {},
   "source": [
    "## Support Vector Classification (RBF Kernel)"
   ]
  },
  {
   "cell_type": "code",
   "execution_count": 23,
   "metadata": {},
   "outputs": [
    {
     "name": "stdout",
     "output_type": "stream",
     "text": [
      "Selected Hyperparameters:\n",
      " -     C = 1.00e+04\n",
      " - gamma = 2.51e-04\n",
      "\n",
      "              precision    recall  f1-score   support\n",
      "\n",
      "    No Death       0.75      0.90      0.82        20\n",
      "       Death       0.67      0.40      0.50        10\n",
      "\n",
      "    accuracy                           0.73        30\n",
      "   macro avg       0.71      0.65      0.66        30\n",
      "weighted avg       0.72      0.73      0.71        30\n",
      "\n"
     ]
    },
    {
     "data": {
      "image/png": "[encoded data removed]",
      "text/plain": [
       "<Figure size 288x288 with 1 Axes>"
      ]
     },
     "metadata": {
      "needs_background": "light"
     },
     "output_type": "display_data"
    }
   ],
   "source": [
    "params = {  \n",
    "    'C': np.logspace(-4, 4, 21),\n",
    "    'gamma': np.logspace(-4, 4, 21),\n",
    "}\n",
    "\n",
    "cv_result = GridSearchCV(\n",
    "    SVC(),  \n",
    "    params,  \n",
    "    scoring='f1_macro',  \n",
    "    n_jobs=-1, \n",
    "    cv=5 \n",
    ").fit(X_train, y_train)\n",
    "\n",
    "print('Selected Hyperparameters:')\n",
    "for k, v in cv_result.best_params_.items():\n",
    "    print(' - {:>5s} = {:.2e}'.format(k, v))\n",
    "print()\n",
    "\n",
    "# Train a model using the selected hyperparameters\n",
    "model = SVC(**cv_result.best_params_, probability=True).fit(X_train, y_train)\n",
    "\n",
    "# Evaluate the model\n",
    "y_hat = model.predict(X_test)\n",
    "scores = model.predict_proba(X_test)[:, 1]\n",
    "classify_perf(y_test, y_hat, scores)"
   ]
  },
  {
   "cell_type": "code",
   "execution_count": null,
   "metadata": {},
   "outputs": [],
   "source": []
  }
 ],
 "metadata": {
  "kernelspec": {
   "display_name": "Python 3",
   "language": "python",
   "name": "python3"
  },
  "language_info": {
   "codemirror_mode": {
    "name": "ipython",
    "version": 3
   },
   "file_extension": ".py",
   "mimetype": "text/x-python",
   "name": "python",
   "nbconvert_exporter": "python",
   "pygments_lexer": "ipython3",
   "version": "3.8.8"
  }
 },
 "nbformat": 4,
 "nbformat_minor": 4
}
